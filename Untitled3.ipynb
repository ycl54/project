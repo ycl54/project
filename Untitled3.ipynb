{
  "nbformat": 4,
  "nbformat_minor": 0,
  "metadata": {
    "colab": {
      "name": "Untitled3.ipynb",
      "provenance": [],
      "authorship_tag": "ABX9TyNor15QGHqxzNAN5U0LTxH3",
      "include_colab_link": true
    },
    "kernelspec": {
      "name": "python3",
      "display_name": "Python 3"
    }
  },
  "cells": [
    {
      "cell_type": "markdown",
      "metadata": {
        "id": "view-in-github",
        "colab_type": "text"
      },
      "source": [
        "<a href=\"https://colab.research.google.com/github/ycl54/project/blob/master/Untitled3.ipynb\" target=\"_parent\"><img src=\"https://colab.research.google.com/assets/colab-badge.svg\" alt=\"Open In Colab\"/></a>"
      ]
    },
    {
      "cell_type": "code",
      "metadata": {
        "id": "1ySnKcEPvui5"
      },
      "source": [
        "from __future__ import print_function\r\n",
        "import os, sys, time, datetime, json, random\r\n",
        "import numpy as np\r\n",
        "from keras.models import Sequential\r\n",
        "from keras.layers.core import Dense, Activation\r\n",
        "from keras.optimizers import SGD , Adam, RMSprop\r\n",
        "from keras.layers.advanced_activations import PReLU\r\n",
        "import matplotlib.pyplot as plt\r\n",
        "%matplotlib inline"
      ],
      "execution_count": 12,
      "outputs": []
    },
    {
      "cell_type": "code",
      "metadata": {
        "id": "YrXbvI2hvyUs"
      },
      "source": [
        "visited_mark = 0.8  # Cells visited by the rat will be painted by gray 0.8\r\n",
        "rat_mark = 0.5      # The current rat cell will be painteg by gray 0.5\r\n",
        "LEFT = 0\r\n",
        "UP = 1\r\n",
        "RIGHT = 2\r\n",
        "DOWN = 3\r\n",
        "\r\n",
        "# Actions dictionary\r\n",
        "actions_dict = {\r\n",
        "    LEFT: 'left',\r\n",
        "    UP: 'up',\r\n",
        "    RIGHT: 'right',\r\n",
        "    DOWN: 'down',\r\n",
        "}\r\n",
        "\r\n",
        "num_actions = len(actions_dict)\r\n",
        "\r\n",
        "# Exploration factor\r\n",
        "epsilon = 0.1"
      ],
      "execution_count": 13,
      "outputs": []
    },
    {
      "cell_type": "code",
      "metadata": {
        "id": "J98VT6Hcv1mA"
      },
      "source": [
        "# maze is a 2d Numpy array of floats between 0.0 to 1.0\r\n",
        "# 1.0 corresponds to a free cell, and 0.0 an occupied cell\r\n",
        "# rat = (row, col) initial rat position (defaults to (0,0))\r\n",
        "\r\n",
        "class Qmaze(object):\r\n",
        "    def __init__(self, maze, rat=(0,0)):\r\n",
        "        self._maze = np.array(maze)\r\n",
        "        nrows, ncols = self._maze.shape\r\n",
        "        self.target = (nrows-1, ncols-1)   # target cell where the \"cheese\" is\r\n",
        "        self.free_cells = [(r,c) for r in range(nrows) for c in range(ncols) if self._maze[r,c] == 1.0]\r\n",
        "        self.free_cells.remove(self.target)\r\n",
        "        if self._maze[self.target] == 0.0:\r\n",
        "            raise Exception(\"Invalid maze: target cell cannot be blocked!\")\r\n",
        "        if not rat in self.free_cells:\r\n",
        "            raise Exception(\"Invalid Rat Location: must sit on a free cell\")\r\n",
        "        self.reset(rat)\r\n",
        "\r\n",
        "    def reset(self, rat):\r\n",
        "        self.rat = rat\r\n",
        "        self.maze = np.copy(self._maze)\r\n",
        "        nrows, ncols = self.maze.shape\r\n",
        "        row, col = rat\r\n",
        "        self.maze[row, col] = rat_mark\r\n",
        "        self.state = (row, col, 'start')\r\n",
        "        self.min_reward = -0.5 * self.maze.size\r\n",
        "        self.total_reward = 0\r\n",
        "        self.visited = set()\r\n",
        "\r\n",
        "    def update_state(self, action):\r\n",
        "        nrows, ncols = self.maze.shape\r\n",
        "        nrow, ncol, nmode = rat_row, rat_col, mode = self.state\r\n",
        "\r\n",
        "        if self.maze[rat_row, rat_col] > 0.0:\r\n",
        "            self.visited.add((rat_row, rat_col))  # mark visited cell\r\n",
        "\r\n",
        "        valid_actions = self.valid_actions()\r\n",
        "                \r\n",
        "        if not valid_actions:\r\n",
        "            nmode = 'blocked'\r\n",
        "        elif action in valid_actions:\r\n",
        "            nmode = 'valid'\r\n",
        "            if action == LEFT:\r\n",
        "                ncol -= 1\r\n",
        "            elif action == UP:\r\n",
        "                nrow -= 1\r\n",
        "            if action == RIGHT:\r\n",
        "                ncol += 1\r\n",
        "            elif action == DOWN:\r\n",
        "                nrow += 1\r\n",
        "        else:                  # invalid action, no change in rat position\r\n",
        "            mode = 'invalid'\r\n",
        "\r\n",
        "        # new state\r\n",
        "        self.state = (nrow, ncol, nmode)\r\n",
        "\r\n",
        "    def get_reward(self):\r\n",
        "        rat_row, rat_col, mode = self.state\r\n",
        "        nrows, ncols = self.maze.shape\r\n",
        "        if rat_row == nrows-1 and rat_col == ncols-1:\r\n",
        "            return 1.0\r\n",
        "        if mode == 'blocked':\r\n",
        "            return self.min_reward - 1\r\n",
        "        if (rat_row, rat_col) in self.visited:\r\n",
        "            return -0.25\r\n",
        "        if mode == 'invalid':\r\n",
        "            return -0.75\r\n",
        "        if mode == 'valid':\r\n",
        "            return -0.04\r\n",
        "\r\n",
        "    def act(self, action):\r\n",
        "        self.update_state(action)\r\n",
        "        reward = self.get_reward()\r\n",
        "        self.total_reward += reward\r\n",
        "        status = self.game_status()\r\n",
        "        envstate = self.observe()\r\n",
        "        return envstate, reward, status\r\n",
        "\r\n",
        "    def observe(self):\r\n",
        "        canvas = self.draw_env()\r\n",
        "        envstate = canvas.reshape((1, -1))\r\n",
        "        return envstate\r\n",
        "\r\n",
        "    def draw_env(self):\r\n",
        "        canvas = np.copy(self.maze)\r\n",
        "        nrows, ncols = self.maze.shape\r\n",
        "        # clear all visual marks\r\n",
        "        for r in range(nrows):\r\n",
        "            for c in range(ncols):\r\n",
        "                if canvas[r,c] > 0.0:\r\n",
        "                    canvas[r,c] = 1.0\r\n",
        "        # draw the rat\r\n",
        "        row, col, valid = self.state\r\n",
        "        canvas[row, col] = rat_mark\r\n",
        "        return canvas\r\n",
        "\r\n",
        "    def game_status(self):\r\n",
        "        if self.total_reward < self.min_reward:\r\n",
        "            return 'lose'\r\n",
        "        rat_row, rat_col, mode = self.state\r\n",
        "        nrows, ncols = self.maze.shape\r\n",
        "        if rat_row == nrows-1 and rat_col == ncols-1:\r\n",
        "            return 'win'\r\n",
        "\r\n",
        "        return 'not_over'\r\n",
        "\r\n",
        "    def valid_actions(self, cell=None):\r\n",
        "        if cell is None:\r\n",
        "            row, col, mode = self.state\r\n",
        "        else:\r\n",
        "            row, col = cell\r\n",
        "        actions = [0, 1, 2, 3]\r\n",
        "        nrows, ncols = self.maze.shape\r\n",
        "        if row == 0:\r\n",
        "            actions.remove(1)\r\n",
        "        elif row == nrows-1:\r\n",
        "            actions.remove(3)\r\n",
        "\r\n",
        "        if col == 0:\r\n",
        "            actions.remove(0)\r\n",
        "        elif col == ncols-1:\r\n",
        "            actions.remove(2)\r\n",
        "\r\n",
        "        if row>0 and self.maze[row-1,col] == 0.0:\r\n",
        "            actions.remove(1)\r\n",
        "        if row<nrows-1 and self.maze[row+1,col] == 0.0:\r\n",
        "            actions.remove(3)\r\n",
        "\r\n",
        "        if col>0 and self.maze[row,col-1] == 0.0:\r\n",
        "            actions.remove(0)\r\n",
        "        if col<ncols-1 and self.maze[row,col+1] == 0.0:\r\n",
        "            actions.remove(2)\r\n",
        "\r\n",
        "        return actions\r\n"
      ],
      "execution_count": 14,
      "outputs": []
    },
    {
      "cell_type": "code",
      "metadata": {
        "id": "p4hEKCNZv3tJ"
      },
      "source": [
        "def show(qmaze):\r\n",
        "    plt.grid('on')\r\n",
        "    nrows, ncols = qmaze.maze.shape\r\n",
        "    ax = plt.gca()\r\n",
        "    ax.set_xticks(np.arange(0.5, nrows, 1))\r\n",
        "    ax.set_yticks(np.arange(0.5, ncols, 1))\r\n",
        "    ax.set_xticklabels([])\r\n",
        "    ax.set_yticklabels([])\r\n",
        "    canvas = np.copy(qmaze.maze)\r\n",
        "    for row,col in qmaze.visited:\r\n",
        "        canvas[row,col] = 0.6\r\n",
        "    rat_row, rat_col, _ = qmaze.state\r\n",
        "    canvas[rat_row, rat_col] = 0.3   # rat cell\r\n",
        "    canvas[nrows-1, ncols-1] = 0.9 # cheese cell\r\n",
        "    img = plt.imshow(canvas, interpolation='none', cmap='gray')\r\n",
        "    return img"
      ],
      "execution_count": 15,
      "outputs": []
    },
    {
      "cell_type": "code",
      "metadata": {
        "id": "CD1snzOrv5zW"
      },
      "source": [
        "maze = [\r\n",
        "    [ 1.,  0.,  1.,  1.,  1.,  1.,  1.,  1.],\r\n",
        "    [ 1.,  0.,  1.,  1.,  1.,  0.,  1.,  1.],\r\n",
        "    [ 1.,  1.,  1.,  1.,  0.,  1.,  0.,  1.],\r\n",
        "    [ 1.,  1.,  1.,  0.,  1.,  1.,  1.,  1.],\r\n",
        "    [ 1.,  1.,  0.,  1.,  1.,  1.,  1.,  1.],\r\n",
        "    [ 1.,  1.,  1.,  0.,  1.,  0.,  0.,  0.],\r\n",
        "    [ 1.,  1.,  1.,  0.,  1.,  1.,  1.,  1.],\r\n",
        "    [ 1.,  1.,  1.,  1.,  0.,  1.,  1.,  1.]\r\n",
        "]"
      ],
      "execution_count": 16,
      "outputs": []
    },
    {
      "cell_type": "code",
      "metadata": {
        "colab": {
          "base_uri": "https://localhost:8080/",
          "height": 288
        },
        "id": "NEAOnY2_v7sA",
        "outputId": "85f3b630-9413-43a1-8d53-20437ff2913e"
      },
      "source": [
        "qmaze = Qmaze(maze)\r\n",
        "canvas, reward, game_over = qmaze.act(DOWN)\r\n",
        "print(\"reward=\", reward)\r\n",
        "show(qmaze)"
      ],
      "execution_count": 17,
      "outputs": [
        {
          "output_type": "stream",
          "text": [
            "reward= -0.04\n"
          ],
          "name": "stdout"
        },
        {
          "output_type": "execute_result",
          "data": {
            "text/plain": [
              "<matplotlib.image.AxesImage at 0x7ff981ae0f98>"
            ]
          },
          "metadata": {
            "tags": []
          },
          "execution_count": 17
        },
        {
          "output_type": "display_data",
          "data": {
            "image/png": "[encoded data removed]",
            "text/plain": [
              "<Figure size 432x288 with 1 Axes>"
            ]
          },
          "metadata": {
            "tags": [],
            "needs_background": "light"
          }
        }
      ]
    },
    {
      "cell_type": "code",
      "metadata": {
        "colab": {
          "base_uri": "https://localhost:8080/",
          "height": 270
        },
        "id": "V95x1o0Gv-5d",
        "outputId": "f42f0253-5b3c-49af-a85c-a1493ce14a85"
      },
      "source": [
        "qmaze.act(DOWN)  # move down\r\n",
        "qmaze.act(RIGHT)  # move right\r\n",
        "qmaze.act(RIGHT)  # move right\r\n",
        "qmaze.act(RIGHT)  # move right\r\n",
        "qmaze.act(UP)  # move up\r\n",
        "show(qmaze)"
      ],
      "execution_count": 18,
      "outputs": [
        {
          "output_type": "execute_result",
          "data": {
            "text/plain": [
              "<matplotlib.image.AxesImage at 0x7ff981a9ff98>"
            ]
          },
          "metadata": {
            "tags": []
          },
          "execution_count": 18
        },
        {
          "output_type": "display_data",
          "data": {
            "image/png": "[encoded data removed]",
            "text/plain": [
              "<Figure size 432x288 with 1 Axes>"
            ]
          },
          "metadata": {
            "tags": [],
            "needs_background": "light"
          }
        }
      ]
    },
    {
      "cell_type": "code",
      "metadata": {
        "id": "KKa4RKKEwBjM"
      },
      "source": [
        "def play_game(model, qmaze, rat_cell):\r\n",
        "    qmaze.reset(rat_cell)\r\n",
        "    envstate = qmaze.observe()\r\n",
        "    while True:\r\n",
        "        prev_envstate = envstate\r\n",
        "        # get next action\r\n",
        "        q = model.predict(prev_envstate)\r\n",
        "        action = np.argmax(q[0])\r\n",
        "\r\n",
        "        # apply action, get rewards and new state\r\n",
        "        envstate, reward, game_status = qmaze.act(action)\r\n",
        "        if game_status == 'win':\r\n",
        "            return True\r\n",
        "        elif game_status == 'lose':\r\n",
        "            return False"
      ],
      "execution_count": 19,
      "outputs": []
    },
    {
      "cell_type": "code",
      "metadata": {
        "id": "ILQ5YCYzwDvw"
      },
      "source": [
        "def completion_check(model, qmaze):\r\n",
        "    for cell in qmaze.free_cells:\r\n",
        "        if not qmaze.valid_actions(cell):\r\n",
        "            return False\r\n",
        "        if not play_game(model, qmaze, cell):\r\n",
        "            return False\r\n",
        "    return True"
      ],
      "execution_count": 20,
      "outputs": []
    },
    {
      "cell_type": "code",
      "metadata": {
        "id": "q__Dj1J_wZDZ"
      },
      "source": [
        "import copy\r\n",
        "def qlearning(maze):\r\n",
        "  alpha = 0.5\r\n",
        "  discount = 0.5\r\n",
        "  qmaze = Qmaze(maze)\r\n",
        "  n_epochs = 15000\r\n",
        "  q_matrix = np.zeros((maze.shape[0], maze.shape[1], 4))\r\n",
        "  for epoch in range(n_epochs):\r\n",
        "    q_matrix_before = copy.deepcopy(q_matrix)\r\n",
        "    rat_cell = random.choice(qmaze.free_cells)\r\n",
        "    print(\"rat_cell:\",rat_cell)\r\n",
        "    qmaze.reset(rat_cell)\r\n",
        "    game_over = False\r\n",
        "\r\n",
        "    \r\n",
        "    n_episodes = 0\r\n",
        "    while not game_over:\r\n",
        "        valid_actions = qmaze.valid_actions()\r\n",
        "        if not valid_actions: break\r\n",
        "       \r\n",
        "        origin_state = qmaze.state\r\n",
        "        # Get next action\r\n",
        "        if np.random.rand() < epsilon:\r\n",
        "            action = random.choice(valid_actions)\r\n",
        "        else:\r\n",
        "            q_actions = [(i,j) for (i,j) in enumerate(q_matrix[origin_state[0], origin_state[1]]) if i in valid_actions]\r\n",
        "            max_action = max(q_actions, key=lambda x: x[1])\r\n",
        "            action = max_action[0]\r\n",
        "\r\n",
        "        # Apply action, get reward and new envstate\r\n",
        "        envstate, reward, game_status = qmaze.act(action)\r\n",
        "        current_state = qmaze.state\r\n",
        "        if game_status == 'win':\r\n",
        "            \r\n",
        "            game_over = True\r\n",
        "        elif game_status == 'lose':\r\n",
        "            \r\n",
        "            game_over = True\r\n",
        "        else:\r\n",
        "            game_over = False\r\n",
        "        sample = reward + discount*np.max([j for i,j in enumerate(q_matrix[current_state[0], current_state[1]]) if i in qmaze.valid_actions()])\r\n",
        "        q_matrix[origin_state[0], origin_state[1], action] = (1-alpha)*q_matrix[origin_state[0], origin_state[1], action]+alpha*sample\r\n",
        "    diff = np.linalg.norm(q_matrix - q_matrix_before)\r\n",
        "    print(\"epoch{}:\".format(epoch),diff)\r\n",
        "    if(diff)<1e-5:\r\n",
        "      break\r\n",
        "\r\n",
        "  print(q_matrix)\r\n",
        "  return q_matrix\r\n",
        "        \r\n",
        "\r\n"
      ],
      "execution_count": 43,
      "outputs": []
    },
    {
      "cell_type": "code",
      "metadata": {
        "colab": {
          "base_uri": "https://localhost:8080/",
          "height": 270
        },
        "id": "ZErSARZ3wPiM",
        "outputId": "cda5a59e-9276-43f0-cda0-afab1b6fa33b"
      },
      "source": [
        "maze = np.array([\r\n",
        "    [ 1.,  0.,  1.,  1.,  1.,  1.,  1.,  1.,  1.,  1.],\r\n",
        "    [ 1.,  1.,  1.,  1.,  1.,  0.,  1.,  1.,  1.,  1.],\r\n",
        "    [ 1.,  1.,  1.,  1.,  1.,  0.,  1.,  1.,  1.,  1.],\r\n",
        "    [ 0.,  0.,  1.,  0.,  0.,  1.,  0.,  1.,  1.,  1.],\r\n",
        "    [ 1.,  1.,  0.,  1.,  0.,  1.,  0.,  0.,  0.,  1.],\r\n",
        "    [ 1.,  1.,  0.,  1.,  0.,  1.,  1.,  1.,  1.,  1.],\r\n",
        "    [ 1.,  1.,  1.,  1.,  1.,  1.,  1.,  1.,  1.,  1.],\r\n",
        "    [ 1.,  1.,  1.,  1.,  1.,  1.,  0.,  0.,  0.,  0.],\r\n",
        "    [ 1.,  0.,  0.,  0.,  0.,  0.,  1.,  1.,  1.,  1.],\r\n",
        "    [ 1.,  1.,  1.,  1.,  1.,  1.,  1.,  0.,  1.,  1.]\r\n",
        "])\r\n",
        "\r\n",
        "qmaze = Qmaze(maze)\r\n",
        "show(qmaze)"
      ],
      "execution_count": 47,
      "outputs": [
        {
          "output_type": "execute_result",
          "data": {
            "text/plain": [
              "<matplotlib.image.AxesImage at 0x7ff97a4e3cf8>"
            ]
          },
          "metadata": {
            "tags": []
          },
          "execution_count": 47
        },
        {
          "output_type": "display_data",
          "data": {
            "image/png": "[encoded data removed]",
            "text/plain": [
              "<Figure size 432x288 with 1 Axes>"
            ]
          },
          "metadata": {
            "tags": [],
            "needs_background": "light"
          }
        }
      ]
    },
    {
      "cell_type": "code",
      "metadata": {
        "colab": {
          "base_uri": "https://localhost:8080/",
          "height": 1000
        },
        "id": "itIbS8yKwRtn",
        "outputId": "7769c41f-e9f2-45f2-d373-3d8d46f023b0"
      },
      "source": [
        "q_matrix = qlearning(maze)\r\n",
        "start = (0,0)\r\n",
        "qmaze.reset(start)\r\n",
        "game_over = False\r\n",
        "origin_state = qmaze.state\r\n",
        "\r\n",
        "while(not game_over):\r\n",
        "  origin_state = qmaze.state\r\n",
        "  \r\n",
        "  valid_actions = qmaze.valid_actions()\r\n",
        "  q_actions = [(i,j) for (i,j) in enumerate(q_matrix[origin_state[0], origin_state[1]]) if i in valid_actions]\r\n",
        "  max_action = max(q_actions, key=lambda x: x[1])\r\n",
        "  action = max_action[0]\r\n",
        "  envstate, reward, game_status = qmaze.act(action)\r\n",
        "  current_state = qmaze.state\r\n",
        "  if game_status == 'win':\r\n",
        "    game_over = True\r\n",
        "  elif game_status == 'lose':\r\n",
        "      \r\n",
        "    game_over = True\r\n",
        "  else:\r\n",
        "    game_over = False\r\n",
        "\r\n",
        "show(qmaze)\r\n",
        "\r\n",
        "\r\n",
        "\r\n"
      ],
      "execution_count": 49,
      "outputs": [
        {
          "output_type": "stream",
          "text": [
            "rat_cell: (6, 5)\n",
            "epoch0: 1.3804737637854623\n",
            "rat_cell: (8, 6)\n",
            "epoch1: 1.8444952216889183\n",
            "rat_cell: (9, 1)\n",
            "epoch2: 1.5734816905751334\n",
            "rat_cell: (0, 7)\n",
            "epoch3: 1.0536219259889135\n",
            "rat_cell: (0, 4)\n",
            "epoch4: 0.9543305718671267\n",
            "rat_cell: (0, 2)\n",
            "epoch5: 0.7030739558410118\n",
            "rat_cell: (0, 6)\n",
            "epoch6: 0.8174571017502273\n",
            "rat_cell: (9, 8)\n",
            "epoch7: 0.125\n",
            "rat_cell: (2, 1)\n",
            "epoch8: 0.5451393306300858\n",
            "rat_cell: (0, 9)\n",
            "epoch9: 0.3885917835639945\n",
            "rat_cell: (6, 4)\n",
            "epoch10: 0.2154512614234574\n",
            "rat_cell: (2, 2)\n",
            "epoch11: 0.42625459373660235\n",
            "rat_cell: (5, 3)\n",
            "epoch12: 0.2045014524400865\n",
            "rat_cell: (1, 1)\n",
            "epoch13: 0.4730936836794187\n",
            "rat_cell: (8, 8)\n",
            "epoch14: 0.0135013924339769\n",
            "rat_cell: (9, 2)\n",
            "epoch15: 0.05653778308441309\n",
            "rat_cell: (9, 1)\n",
            "epoch16: 0.1996815872996002\n",
            "rat_cell: (7, 5)\n",
            "epoch17: 0.17581618191643847\n",
            "rat_cell: (3, 9)\n",
            "epoch18: 0.14543846228963953\n",
            "rat_cell: (2, 4)\n",
            "epoch19: 0.6039393287273378\n",
            "rat_cell: (8, 8)\n",
            "epoch20: 0.009964646340825714\n",
            "rat_cell: (5, 1)\n",
            "epoch21: 0.15269040176368084\n",
            "rat_cell: (9, 2)\n",
            "epoch22: 0.032808527186857915\n",
            "rat_cell: (7, 3)\n",
            "epoch23: 0.03826992975540692\n",
            "rat_cell: (8, 8)\n",
            "epoch24: 0.0006266050757862971\n",
            "rat_cell: (9, 1)\n",
            "epoch25: 0.01563101034461559\n",
            "rat_cell: (9, 8)\n",
            "epoch26: 4.76837158203125e-07\n",
            "[[[ 0.          0.          0.         -0.48237534]\n",
            "  [ 0.          0.          0.          0.        ]\n",
            "  [ 0.          0.         -0.45994534 -0.46422191]\n",
            "  [-0.46007861  0.         -0.45428605 -0.43899404]\n",
            "  [-0.44957741  0.         -0.46317845 -0.45622373]\n",
            "  [-0.45904545  0.         -0.46185458  0.        ]\n",
            "  [-0.4612201   0.         -0.45928057 -0.33103599]\n",
            "  [-0.45043745  0.         -0.31351522 -0.44829367]\n",
            "  [-0.45250542  0.         -0.29667388 -0.40638194]\n",
            "  [-0.44937265  0.          0.         -0.32766386]]\n",
            "\n",
            " [[ 0.         -0.48278527 -0.47752998 -0.47426492]\n",
            "  [-0.47095961  0.         -0.46961813 -0.47289027]\n",
            "  [-0.46709059 -0.46273772 -0.46999009 -0.46972108]\n",
            "  [-0.46429128 -0.40752215 -0.46950275 -0.46716845]\n",
            "  [-0.46237276 -0.46332594  0.         -0.46853383]\n",
            "  [ 0.          0.          0.          0.        ]\n",
            "  [ 0.         -0.45627446 -0.2863234  -0.4491828 ]\n",
            "  [-0.44530305 -0.32746241 -0.44286952 -0.44174471]\n",
            "  [-0.42639055 -0.45069124 -0.44547769 -0.4459388 ]\n",
            "  [-0.44350023 -0.44459608  0.         -0.27590085]]\n",
            "\n",
            " [[ 0.         -0.47631391 -0.47093296  0.        ]\n",
            "  [-0.47414045 -0.46724184 -0.46783281  0.        ]\n",
            "  [-0.4661738  -0.47587475 -0.46558045 -0.47575928]\n",
            "  [-0.47139628 -0.4646783  -0.4689034   0.        ]\n",
            "  [-0.4713508  -0.46451996  0.          0.        ]\n",
            "  [ 0.          0.          0.          0.        ]\n",
            "  [ 0.         -0.43962256 -0.44006626  0.        ]\n",
            "  [-0.43556916 -0.40430941 -0.34781162 -0.44024694]\n",
            "  [-0.43923532 -0.4369453  -0.44595542 -0.44485501]\n",
            "  [-0.43658156 -0.44271164  0.         -0.25190273]]\n",
            "\n",
            " [[ 0.          0.          0.          0.        ]\n",
            "  [ 0.          0.          0.          0.        ]\n",
            "  [ 0.         -0.47795995  0.          0.        ]\n",
            "  [ 0.          0.          0.          0.        ]\n",
            "  [ 0.          0.          0.          0.        ]\n",
            "  [ 0.          0.          0.         -0.39759811]\n",
            "  [ 0.          0.          0.          0.        ]\n",
            "  [ 0.         -0.42550311 -0.43691085  0.        ]\n",
            "  [-0.44037709 -0.44071886 -0.43456715  0.        ]\n",
            "  [-0.39796912 -0.4325656   0.         -0.19364832]]\n",
            "\n",
            " [[ 0.          0.         -0.36463562 -0.37323242]\n",
            "  [-0.35383789  0.          0.         -0.34935913]\n",
            "  [ 0.          0.          0.          0.        ]\n",
            "  [ 0.          0.          0.         -0.44134198]\n",
            "  [ 0.          0.          0.          0.        ]\n",
            "  [ 0.         -0.37965698  0.         -0.38826752]\n",
            "  [ 0.          0.          0.          0.        ]\n",
            "  [ 0.          0.          0.          0.        ]\n",
            "  [ 0.          0.          0.          0.        ]\n",
            "  [ 0.         -0.44833485  0.         -0.16661365]]\n",
            "\n",
            " [[ 0.         -0.36995483 -0.36013672 -0.37317871]\n",
            "  [-0.35231812 -0.34220703  0.         -0.25496109]\n",
            "  [ 0.          0.          0.          0.        ]\n",
            "  [ 0.         -0.42681596  0.         -0.31519936]\n",
            "  [ 0.          0.          0.          0.        ]\n",
            "  [ 0.         -0.36323441 -0.37595825 -0.26748108]\n",
            "  [-0.28483002  0.         -0.38193542 -0.37067627]\n",
            "  [-0.29584717  0.         -0.4073688  -0.40154266]\n",
            "  [-0.4226146   0.         -0.42520164 -0.15867048]\n",
            "  [-0.15922922 -0.44025189  0.         -0.33976502]]\n",
            "\n",
            " [[ 0.         -0.35797424 -0.36431152 -0.17959144]\n",
            "  [-0.22444016 -0.33925995 -0.35798096 -0.3685376 ]\n",
            "  [-0.27462463  0.         -0.34749512 -0.36512932]\n",
            "  [-0.36928314 -0.39651394 -0.26077186 -0.39022758]\n",
            "  [-0.36188904  0.         -0.31562623 -0.10754817]\n",
            "  [-0.21128587 -0.35218712 -0.34979004 -0.33543045]\n",
            "  [-0.12421905 -0.37308716 -0.38066666  0.        ]\n",
            "  [-0.14065583 -0.38617739 -0.40569168  0.        ]\n",
            "  [-0.15397654 -0.4371377  -0.42808779  0.        ]\n",
            "  [-0.43447194 -0.41996727  0.          0.        ]]\n",
            "\n",
            " [[ 0.         -0.37596161 -0.31669189 -0.11840371]\n",
            "  [-0.10317476 -0.35010986 -0.34778809  0.        ]\n",
            "  [-0.09725513 -0.3530349  -0.33273682  0.        ]\n",
            "  [-0.09630901 -0.30386827 -0.3578418   0.        ]\n",
            "  [-0.10322555 -0.35501434 -0.38581375  0.        ]\n",
            "  [-0.38695099 -0.24992826  0.          0.        ]\n",
            "  [ 0.          0.          0.          0.        ]\n",
            "  [ 0.          0.          0.          0.        ]\n",
            "  [ 0.          0.          0.          0.        ]\n",
            "  [ 0.          0.          0.          0.        ]]\n",
            "\n",
            " [[ 0.         -0.32174805  0.         -0.11661517]\n",
            "  [ 0.          0.          0.          0.        ]\n",
            "  [ 0.          0.          0.          0.        ]\n",
            "  [ 0.          0.          0.          0.        ]\n",
            "  [ 0.          0.          0.          0.        ]\n",
            "  [ 0.          0.          0.          0.        ]\n",
            "  [ 0.          0.          0.04864053 -0.2730739 ]\n",
            "  [-0.27164063  0.          0.18689489  0.        ]\n",
            "  [-0.13        0.         -0.135       0.45968527]\n",
            "  [-0.125       0.          0.          0.5       ]]\n",
            "\n",
            " [[ 0.         -0.31323608 -0.09014866  0.        ]\n",
            "  [-0.33851574  0.         -0.08680026  0.        ]\n",
            "  [-0.32540344  0.         -0.08673434  0.        ]\n",
            "  [-0.28472656  0.         -0.08705857  0.        ]\n",
            "  [-0.31283356  0.         -0.08401922  0.        ]\n",
            "  [-0.32774399  0.         -0.06778219  0.        ]\n",
            "  [-0.28227209 -0.02640246  0.          0.        ]\n",
            "  [ 0.          0.          0.          0.        ]\n",
            "  [ 0.         -0.06887451  0.99999952  0.        ]\n",
            "  [ 0.          0.          0.          0.        ]]]\n",
            "[[[ 0.          0.          0.         -0.48237534]\n",
            "  [ 0.          0.          0.          0.        ]\n",
            "  [ 0.          0.         -0.45994534 -0.46422191]\n",
            "  [-0.46007861  0.         -0.45428605 -0.43899404]\n",
            "  [-0.44957741  0.         -0.46317845 -0.45622373]\n",
            "  [-0.45904545  0.         -0.46185458  0.        ]\n",
            "  [-0.4612201   0.         -0.45928057 -0.33103599]\n",
            "  [-0.45043745  0.         -0.31351522 -0.44829367]\n",
            "  [-0.45250542  0.         -0.29667388 -0.40638194]\n",
            "  [-0.44937265  0.          0.         -0.32766386]]\n",
            "\n",
            " [[ 0.         -0.48278527 -0.47752998 -0.47426492]\n",
            "  [-0.47095961  0.         -0.46961813 -0.47289027]\n",
            "  [-0.46709059 -0.46273772 -0.46999009 -0.46972108]\n",
            "  [-0.46429128 -0.40752215 -0.46950275 -0.46716845]\n",
            "  [-0.46237276 -0.46332594  0.         -0.46853383]\n",
            "  [ 0.          0.          0.          0.        ]\n",
            "  [ 0.         -0.45627446 -0.2863234  -0.4491828 ]\n",
            "  [-0.44530305 -0.32746241 -0.44286952 -0.44174471]\n",
            "  [-0.42639055 -0.45069124 -0.44547769 -0.4459388 ]\n",
            "  [-0.44350023 -0.44459608  0.         -0.27590085]]\n",
            "\n",
            " [[ 0.         -0.47631391 -0.47093296  0.        ]\n",
            "  [-0.47414045 -0.46724184 -0.46783281  0.        ]\n",
            "  [-0.4661738  -0.47587475 -0.46558045 -0.47575928]\n",
            "  [-0.47139628 -0.4646783  -0.4689034   0.        ]\n",
            "  [-0.4713508  -0.46451996  0.          0.        ]\n",
            "  [ 0.          0.          0.          0.        ]\n",
            "  [ 0.         -0.43962256 -0.44006626  0.        ]\n",
            "  [-0.43556916 -0.40430941 -0.34781162 -0.44024694]\n",
            "  [-0.43923532 -0.4369453  -0.44595542 -0.44485501]\n",
            "  [-0.43658156 -0.44271164  0.         -0.25190273]]\n",
            "\n",
            " [[ 0.          0.          0.          0.        ]\n",
            "  [ 0.          0.          0.          0.        ]\n",
            "  [ 0.         -0.47795995  0.          0.        ]\n",
            "  [ 0.          0.          0.          0.        ]\n",
            "  [ 0.          0.          0.          0.        ]\n",
            "  [ 0.          0.          0.         -0.39759811]\n",
            "  [ 0.          0.          0.          0.        ]\n",
            "  [ 0.         -0.42550311 -0.43691085  0.        ]\n",
            "  [-0.44037709 -0.44071886 -0.43456715  0.        ]\n",
            "  [-0.39796912 -0.4325656   0.         -0.19364832]]\n",
            "\n",
            " [[ 0.          0.         -0.36463562 -0.37323242]\n",
            "  [-0.35383789  0.          0.         -0.34935913]\n",
            "  [ 0.          0.          0.          0.        ]\n",
            "  [ 0.          0.          0.         -0.44134198]\n",
            "  [ 0.          0.          0.          0.        ]\n",
            "  [ 0.         -0.37965698  0.         -0.38826752]\n",
            "  [ 0.          0.          0.          0.        ]\n",
            "  [ 0.          0.          0.          0.        ]\n",
            "  [ 0.          0.          0.          0.        ]\n",
            "  [ 0.         -0.44833485  0.         -0.16661365]]\n",
            "\n",
            " [[ 0.         -0.36995483 -0.36013672 -0.37317871]\n",
            "  [-0.35231812 -0.34220703  0.         -0.25496109]\n",
            "  [ 0.          0.          0.          0.        ]\n",
            "  [ 0.         -0.42681596  0.         -0.31519936]\n",
            "  [ 0.          0.          0.          0.        ]\n",
            "  [ 0.         -0.36323441 -0.37595825 -0.26748108]\n",
            "  [-0.28483002  0.         -0.38193542 -0.37067627]\n",
            "  [-0.29584717  0.         -0.4073688  -0.40154266]\n",
            "  [-0.4226146   0.         -0.42520164 -0.15867048]\n",
            "  [-0.15922922 -0.44025189  0.         -0.33976502]]\n",
            "\n",
            " [[ 0.         -0.35797424 -0.36431152 -0.17959144]\n",
            "  [-0.22444016 -0.33925995 -0.35798096 -0.3685376 ]\n",
            "  [-0.27462463  0.         -0.34749512 -0.36512932]\n",
            "  [-0.36928314 -0.39651394 -0.26077186 -0.39022758]\n",
            "  [-0.36188904  0.         -0.31562623 -0.10754817]\n",
            "  [-0.21128587 -0.35218712 -0.34979004 -0.33543045]\n",
            "  [-0.12421905 -0.37308716 -0.38066666  0.        ]\n",
            "  [-0.14065583 -0.38617739 -0.40569168  0.        ]\n",
            "  [-0.15397654 -0.4371377  -0.42808779  0.        ]\n",
            "  [-0.43447194 -0.41996727  0.          0.        ]]\n",
            "\n",
            " [[ 0.         -0.37596161 -0.31669189 -0.11840371]\n",
            "  [-0.10317476 -0.35010986 -0.34778809  0.        ]\n",
            "  [-0.09725513 -0.3530349  -0.33273682  0.        ]\n",
            "  [-0.09630901 -0.30386827 -0.3578418   0.        ]\n",
            "  [-0.10322555 -0.35501434 -0.38581375  0.        ]\n",
            "  [-0.38695099 -0.24992826  0.          0.        ]\n",
            "  [ 0.          0.          0.          0.        ]\n",
            "  [ 0.          0.          0.          0.        ]\n",
            "  [ 0.          0.          0.          0.        ]\n",
            "  [ 0.          0.          0.          0.        ]]\n",
            "\n",
            " [[ 0.         -0.32174805  0.         -0.11661517]\n",
            "  [ 0.          0.          0.          0.        ]\n",
            "  [ 0.          0.          0.          0.        ]\n",
            "  [ 0.          0.          0.          0.        ]\n",
            "  [ 0.          0.          0.          0.        ]\n",
            "  [ 0.          0.          0.          0.        ]\n",
            "  [ 0.          0.          0.04864053 -0.2730739 ]\n",
            "  [-0.27164063  0.          0.18689489  0.        ]\n",
            "  [-0.13        0.         -0.135       0.45968527]\n",
            "  [-0.125       0.          0.          0.5       ]]\n",
            "\n",
            " [[ 0.         -0.31323608 -0.09014866  0.        ]\n",
            "  [-0.33851574  0.         -0.08680026  0.        ]\n",
            "  [-0.32540344  0.         -0.08673434  0.        ]\n",
            "  [-0.28472656  0.         -0.08705857  0.        ]\n",
            "  [-0.31283356  0.         -0.08401922  0.        ]\n",
            "  [-0.32774399  0.         -0.06778219  0.        ]\n",
            "  [-0.28227209 -0.02640246  0.          0.        ]\n",
            "  [ 0.          0.          0.          0.        ]\n",
            "  [ 0.         -0.06887451  0.99999952  0.        ]\n",
            "  [ 0.          0.          0.          0.        ]]]\n"
          ],
          "name": "stdout"
        },
        {
          "output_type": "execute_result",
          "data": {
            "text/plain": [
              "<matplotlib.image.AxesImage at 0x7ff97a3bbc50>"
            ]
          },
          "metadata": {
            "tags": []
          },
          "execution_count": 49
        },
        {
          "output_type": "display_data",
          "data": {
            "image/png": "[encoded data removed]",
            "text/plain": [
              "<Figure size 432x288 with 1 Axes>"
            ]
          },
          "metadata": {
            "tags": [],
            "needs_background": "light"
          }
        }
      ]
    }
  ]
}